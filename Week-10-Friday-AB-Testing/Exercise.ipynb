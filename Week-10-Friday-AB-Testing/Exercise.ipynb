{
 "cells": [
  {
   "cell_type": "code",
   "execution_count": 22,
   "id": "9f9b999a",
   "metadata": {},
   "outputs": [
    {
     "name": "stdout",
     "output_type": "stream",
     "text": [
      "David Guzman 11/16/21\n"
     ]
    }
   ],
   "source": [
    "print (\"David Guzman 11/16/21\")"
   ]
  },
  {
   "cell_type": "markdown",
   "id": "marine-stock",
   "metadata": {},
   "source": [
    "# Exercise with A/B Testing\n",
    "\n",
    "### Prompt\n",
    "\n",
    "Let’s imagine you work on the For You Page at TikTok. Your team decides that instead of a heart button, they want to change it to star hoping that it will lead to a higher engagement/like rate. The product manager told you that the current conversion rate is about 6% on average throughout the year, and that the team would be happy with an increase of 3%, meaning that the new design will be considered a success if it raises the engagement rate to 9%.\n",
    "\n",
    "Before rolling out the change, the team would be more comfortable testing it on a small number of users to see how it performs, so you suggest running an A/B test on a subset of the user base users."
   ]
  },
  {
   "cell_type": "code",
   "execution_count": 33,
   "id": "streaming-honor",
   "metadata": {},
   "outputs": [],
   "source": [
    "# Packages imports\n",
    "import numpy as np\n",
    "import pandas as pd\n",
    "\n",
    "# probability distributions & statistical functions\n",
    "import scipy.stats as stats\n",
    "# estimating statistical models\n",
    "import statsmodels.stats.api as sms\n",
    "\n",
    "import matplotlib.pyplot as plt\n",
    "import seaborn as sns\n",
    "\n",
    "#rounding function\n",
    "from math import ceil\n",
    "\n"
   ]
  },
  {
   "cell_type": "markdown",
   "id": "seeing-worse",
   "metadata": {},
   "source": [
    "### Sample Size Calculation"
   ]
  },
  {
   "cell_type": "code",
   "execution_count": 34,
   "id": "popular-permit",
   "metadata": {},
   "outputs": [],
   "source": [
    "# Calculate effect size based on our expected rates\n",
    "# the two expected rates, 6% (0.06),9% (0.09)\n",
    "# effect size for a test comparing two proportions \n",
    "\n",
    "effect_size = sms.proportion_effectsize(0.06, 0.09)\n"
   ]
  },
  {
   "cell_type": "code",
   "execution_count": 35,
   "id": "moving-regression",
   "metadata": {},
   "outputs": [
    {
     "name": "stdout",
     "output_type": "stream",
     "text": [
      "1199\n"
     ]
    }
   ],
   "source": [
    "# Calculate sample size needed\n",
    "# ceil will round up the number \n",
    "# need to use .05 for the alpha\n",
    "# set power to .8, if there is a difference in conversion \n",
    "# rate between our designs, there is 80% chance to detect\n",
    "# it as statisically significant \n",
    "\n",
    "required_n = sms.NormalIndPower().solve_power( \n",
    "    effect_size, power = 0.8, alpha=0.05, ratio=1)\n",
    "\n",
    "required_n = ceil(required_n)\n",
    "print (required_n)"
   ]
  },
  {
   "cell_type": "markdown",
   "id": "crucial-editing",
   "metadata": {},
   "source": [
    "### Collecting and preparing the data"
   ]
  },
  {
   "cell_type": "code",
   "execution_count": 36,
   "id": "literary-separate",
   "metadata": {},
   "outputs": [
    {
     "data": {
      "text/html": [
       "<div>\n",
       "<style scoped>\n",
       "    .dataframe tbody tr th:only-of-type {\n",
       "        vertical-align: middle;\n",
       "    }\n",
       "\n",
       "    .dataframe tbody tr th {\n",
       "        vertical-align: top;\n",
       "    }\n",
       "\n",
       "    .dataframe thead th {\n",
       "        text-align: right;\n",
       "    }\n",
       "</style>\n",
       "<table border=\"1\" class=\"dataframe\">\n",
       "  <thead>\n",
       "    <tr style=\"text-align: right;\">\n",
       "      <th></th>\n",
       "      <th>user_id</th>\n",
       "      <th>timestamp</th>\n",
       "      <th>group</th>\n",
       "      <th>button</th>\n",
       "      <th>liked</th>\n",
       "    </tr>\n",
       "  </thead>\n",
       "  <tbody>\n",
       "    <tr>\n",
       "      <th>0</th>\n",
       "      <td>767017</td>\n",
       "      <td>2017-01-12 22:58:15</td>\n",
       "      <td>control</td>\n",
       "      <td>star</td>\n",
       "      <td>0</td>\n",
       "    </tr>\n",
       "    <tr>\n",
       "      <th>1</th>\n",
       "      <td>793849</td>\n",
       "      <td>2017-01-23 22:36:11</td>\n",
       "      <td>treatment</td>\n",
       "      <td>star</td>\n",
       "      <td>0</td>\n",
       "    </tr>\n",
       "    <tr>\n",
       "      <th>2</th>\n",
       "      <td>905617</td>\n",
       "      <td>2017-01-20 14:12:19</td>\n",
       "      <td>treatment</td>\n",
       "      <td>star</td>\n",
       "      <td>0</td>\n",
       "    </tr>\n",
       "    <tr>\n",
       "      <th>3</th>\n",
       "      <td>746742</td>\n",
       "      <td>2017-01-23 11:38:30</td>\n",
       "      <td>control</td>\n",
       "      <td>heart</td>\n",
       "      <td>0</td>\n",
       "    </tr>\n",
       "    <tr>\n",
       "      <th>4</th>\n",
       "      <td>892356</td>\n",
       "      <td>2017-01-05 9:35:15</td>\n",
       "      <td>treatment</td>\n",
       "      <td>star</td>\n",
       "      <td>1</td>\n",
       "    </tr>\n",
       "  </tbody>\n",
       "</table>\n",
       "</div>"
      ],
      "text/plain": [
       "   user_id            timestamp      group button  liked\n",
       "0   767017  2017-01-12 22:58:15    control   star      0\n",
       "1   793849  2017-01-23 22:36:11  treatment   star      0\n",
       "2   905617  2017-01-20 14:12:19  treatment   star      0\n",
       "3   746742  2017-01-23 11:38:30    control  heart      0\n",
       "4   892356   2017-01-05 9:35:15  treatment   star      1"
      ]
     },
     "execution_count": 36,
     "metadata": {},
     "output_type": "execute_result"
    }
   ],
   "source": [
    "# Load the tiktok_data.csv into a dataframe\n",
    "df = pd.read_csv(\"tiktok_data.csv\")\n",
    "df.head()\n"
   ]
  },
  {
   "cell_type": "code",
   "execution_count": 37,
   "id": "described-matrix",
   "metadata": {},
   "outputs": [
    {
     "name": "stdout",
     "output_type": "stream",
     "text": [
      "<class 'pandas.core.frame.DataFrame'>\n",
      "RangeIndex: 275781 entries, 0 to 275780\n",
      "Data columns (total 5 columns):\n",
      " #   Column     Non-Null Count   Dtype \n",
      "---  ------     --------------   ----- \n",
      " 0   user_id    275781 non-null  int64 \n",
      " 1   timestamp  275781 non-null  object\n",
      " 2   group      275781 non-null  object\n",
      " 3   button     275781 non-null  object\n",
      " 4   liked      275781 non-null  int64 \n",
      "dtypes: int64(2), object(3)\n",
      "memory usage: 10.5+ MB\n"
     ]
    }
   ],
   "source": [
    "# Get the info of the dataframe\n",
    "df.info()\n"
   ]
  },
  {
   "cell_type": "code",
   "execution_count": 38,
   "id": "metallic-providence",
   "metadata": {},
   "outputs": [
    {
     "data": {
      "text/html": [
       "<div>\n",
       "<style scoped>\n",
       "    .dataframe tbody tr th:only-of-type {\n",
       "        vertical-align: middle;\n",
       "    }\n",
       "\n",
       "    .dataframe tbody tr th {\n",
       "        vertical-align: top;\n",
       "    }\n",
       "\n",
       "    .dataframe thead th {\n",
       "        text-align: right;\n",
       "    }\n",
       "</style>\n",
       "<table border=\"1\" class=\"dataframe\">\n",
       "  <thead>\n",
       "    <tr style=\"text-align: right;\">\n",
       "      <th>button</th>\n",
       "      <th>heart</th>\n",
       "      <th>star</th>\n",
       "    </tr>\n",
       "    <tr>\n",
       "      <th>group</th>\n",
       "      <th></th>\n",
       "      <th></th>\n",
       "    </tr>\n",
       "  </thead>\n",
       "  <tbody>\n",
       "    <tr>\n",
       "      <th>control</th>\n",
       "      <td>136002</td>\n",
       "      <td>1816</td>\n",
       "    </tr>\n",
       "    <tr>\n",
       "      <th>treatment</th>\n",
       "      <td>1855</td>\n",
       "      <td>136108</td>\n",
       "    </tr>\n",
       "  </tbody>\n",
       "</table>\n",
       "</div>"
      ],
      "text/plain": [
       "button      heart    star\n",
       "group                    \n",
       "control    136002    1816\n",
       "treatment    1855  136108"
      ]
     },
     "execution_count": 38,
     "metadata": {},
     "output_type": "execute_result"
    }
   ],
   "source": [
    "# Make sure all the control group are seeing the star button and viceversa\n",
    "pd.crosstab(df[\"group\"],df[\"button\"])"
   ]
  },
  {
   "cell_type": "code",
   "execution_count": 39,
   "id": "fancy-lucas",
   "metadata": {},
   "outputs": [
    {
     "name": "stdout",
     "output_type": "stream",
     "text": [
      "3453\n"
     ]
    }
   ],
   "source": [
    "# Check that no users have been sampled multiple times \n",
    "session_counts = df[\"user_id\"].value_counts(ascending=False)\n",
    "multi_users = session_counts[session_counts > 1].count()\n",
    "\n",
    "print (multi_users) # there are 3453 users are being sampled twice, lets remove them\n",
    "\n"
   ]
  },
  {
   "cell_type": "code",
   "execution_count": 40,
   "id": "appreciated-thomas",
   "metadata": {},
   "outputs": [
    {
     "name": "stdout",
     "output_type": "stream",
     "text": [
      "268875\n"
     ]
    }
   ],
   "source": [
    "# If there are users who have been sampled multiple times, remove them from the dataframe\n",
    "users_to_drop = session_counts[session_counts > 1].index\n",
    "df = df[~df[\"user_id\"].isin(users_to_drop)]\n",
    "print(df.shape[0])\n"
   ]
  },
  {
   "cell_type": "code",
   "execution_count": 42,
   "id": "1817419a",
   "metadata": {},
   "outputs": [
    {
     "name": "stderr",
     "output_type": "stream",
     "text": [
      "<ipython-input-42-580f457678ca>:3: UserWarning: Boolean Series key will be reindexed to match DataFrame index.\n",
      "  df_control = df_control [df.button != \"star\"] #old\n",
      "<ipython-input-42-580f457678ca>:6: UserWarning: Boolean Series key will be reindexed to match DataFrame index.\n",
      "  df_treat = df_treat[df.button != \"heart\"] # new\n"
     ]
    }
   ],
   "source": [
    "# remove the users who appeared in the wrong test group\n",
    "df_control = df.loc[(df[\"group\"] == \"control\")]\n",
    "df_control = df_control [df.button != \"star\"]\n",
    "\n",
    "df_treat = df.loc[(df[\"group\"] == \"treatment\")]\n",
    "df_treat = df_treat[df.button != \"heart\"]  \n",
    "\n",
    "df_clean = pd.concat([df_control, df_treat], ignore_index=True)\n",
    "\n",
    "df = df_clean"
   ]
  },
  {
   "cell_type": "code",
   "execution_count": 43,
   "id": "4f6d0ab0",
   "metadata": {},
   "outputs": [
    {
     "data": {
      "text/html": [
       "<div>\n",
       "<style scoped>\n",
       "    .dataframe tbody tr th:only-of-type {\n",
       "        vertical-align: middle;\n",
       "    }\n",
       "\n",
       "    .dataframe tbody tr th {\n",
       "        vertical-align: top;\n",
       "    }\n",
       "\n",
       "    .dataframe thead th {\n",
       "        text-align: right;\n",
       "    }\n",
       "</style>\n",
       "<table border=\"1\" class=\"dataframe\">\n",
       "  <thead>\n",
       "    <tr style=\"text-align: right;\">\n",
       "      <th>button</th>\n",
       "      <th>heart</th>\n",
       "      <th>star</th>\n",
       "    </tr>\n",
       "    <tr>\n",
       "      <th>group</th>\n",
       "      <th></th>\n",
       "      <th></th>\n",
       "    </tr>\n",
       "  </thead>\n",
       "  <tbody>\n",
       "    <tr>\n",
       "      <th>control</th>\n",
       "      <td>134233</td>\n",
       "      <td>0</td>\n",
       "    </tr>\n",
       "    <tr>\n",
       "      <th>treatment</th>\n",
       "      <td>0</td>\n",
       "      <td>134423</td>\n",
       "    </tr>\n",
       "  </tbody>\n",
       "</table>\n",
       "</div>"
      ],
      "text/plain": [
       "button      heart    star\n",
       "group                    \n",
       "control    134233       0\n",
       "treatment       0  134423"
      ]
     },
     "execution_count": 43,
     "metadata": {},
     "output_type": "execute_result"
    }
   ],
   "source": [
    "# check that control is seeing heart and treatment is star\n",
    "pd.crosstab(df[\"group\"], df[\"button\"])"
   ]
  },
  {
   "cell_type": "markdown",
   "id": "skilled-apple",
   "metadata": {},
   "source": [
    "#### Now that our DataFrame is nice and clean, we can proceed and sample n=4720 entries for each of the groups. We can use pandas' DataFrame.sample() method to do this, which will perform Simple Random Sampling for us."
   ]
  },
  {
   "cell_type": "code",
   "execution_count": 44,
   "id": "absolute-runner",
   "metadata": {},
   "outputs": [],
   "source": [
    "# Perform simple random sampling to split the data into control and treatment\n",
    "control_sample = df[df[\"group\"] == \"control\"].sample(n=required_n, random_state=22)\n",
    "treatment_sample = df[df[\"group\"] == \"treatment\"].sample(n=required_n, random_state=22)\n"
   ]
  },
  {
   "cell_type": "code",
   "execution_count": 45,
   "id": "durable-belfast",
   "metadata": {},
   "outputs": [
    {
     "data": {
      "text/html": [
       "<div>\n",
       "<style scoped>\n",
       "    .dataframe tbody tr th:only-of-type {\n",
       "        vertical-align: middle;\n",
       "    }\n",
       "\n",
       "    .dataframe tbody tr th {\n",
       "        vertical-align: top;\n",
       "    }\n",
       "\n",
       "    .dataframe thead th {\n",
       "        text-align: right;\n",
       "    }\n",
       "</style>\n",
       "<table border=\"1\" class=\"dataframe\">\n",
       "  <thead>\n",
       "    <tr style=\"text-align: right;\">\n",
       "      <th></th>\n",
       "      <th>user_id</th>\n",
       "      <th>timestamp</th>\n",
       "      <th>group</th>\n",
       "      <th>button</th>\n",
       "      <th>liked</th>\n",
       "    </tr>\n",
       "  </thead>\n",
       "  <tbody>\n",
       "    <tr>\n",
       "      <th>0</th>\n",
       "      <td>917088</td>\n",
       "      <td>2017-01-12 13:49:24</td>\n",
       "      <td>control</td>\n",
       "      <td>heart</td>\n",
       "      <td>1</td>\n",
       "    </tr>\n",
       "    <tr>\n",
       "      <th>1</th>\n",
       "      <td>916840</td>\n",
       "      <td>2017-01-20 5:22:05</td>\n",
       "      <td>control</td>\n",
       "      <td>heart</td>\n",
       "      <td>0</td>\n",
       "    </tr>\n",
       "    <tr>\n",
       "      <th>2</th>\n",
       "      <td>711894</td>\n",
       "      <td>2017-01-09 21:35:00</td>\n",
       "      <td>control</td>\n",
       "      <td>heart</td>\n",
       "      <td>0</td>\n",
       "    </tr>\n",
       "    <tr>\n",
       "      <th>3</th>\n",
       "      <td>929441</td>\n",
       "      <td>2017-01-11 14:17:55</td>\n",
       "      <td>control</td>\n",
       "      <td>heart</td>\n",
       "      <td>1</td>\n",
       "    </tr>\n",
       "    <tr>\n",
       "      <th>4</th>\n",
       "      <td>906207</td>\n",
       "      <td>2017-01-10 17:55:40</td>\n",
       "      <td>control</td>\n",
       "      <td>heart</td>\n",
       "      <td>0</td>\n",
       "    </tr>\n",
       "    <tr>\n",
       "      <th>...</th>\n",
       "      <td>...</td>\n",
       "      <td>...</td>\n",
       "      <td>...</td>\n",
       "      <td>...</td>\n",
       "      <td>...</td>\n",
       "    </tr>\n",
       "    <tr>\n",
       "      <th>2393</th>\n",
       "      <td>829862</td>\n",
       "      <td>2017-01-20 7:22:43</td>\n",
       "      <td>treatment</td>\n",
       "      <td>star</td>\n",
       "      <td>0</td>\n",
       "    </tr>\n",
       "    <tr>\n",
       "      <th>2394</th>\n",
       "      <td>700306</td>\n",
       "      <td>2017-01-23 15:52:38</td>\n",
       "      <td>treatment</td>\n",
       "      <td>star</td>\n",
       "      <td>1</td>\n",
       "    </tr>\n",
       "    <tr>\n",
       "      <th>2395</th>\n",
       "      <td>803106</td>\n",
       "      <td>2017-01-11 11:07:57</td>\n",
       "      <td>treatment</td>\n",
       "      <td>star</td>\n",
       "      <td>0</td>\n",
       "    </tr>\n",
       "    <tr>\n",
       "      <th>2396</th>\n",
       "      <td>755046</td>\n",
       "      <td>2017-01-14 15:33:20</td>\n",
       "      <td>treatment</td>\n",
       "      <td>star</td>\n",
       "      <td>1</td>\n",
       "    </tr>\n",
       "    <tr>\n",
       "      <th>2397</th>\n",
       "      <td>760681</td>\n",
       "      <td>2017-01-14 17:18:51</td>\n",
       "      <td>treatment</td>\n",
       "      <td>star</td>\n",
       "      <td>0</td>\n",
       "    </tr>\n",
       "  </tbody>\n",
       "</table>\n",
       "<p>2398 rows × 5 columns</p>\n",
       "</div>"
      ],
      "text/plain": [
       "      user_id            timestamp      group button  liked\n",
       "0      917088  2017-01-12 13:49:24    control  heart      1\n",
       "1      916840   2017-01-20 5:22:05    control  heart      0\n",
       "2      711894  2017-01-09 21:35:00    control  heart      0\n",
       "3      929441  2017-01-11 14:17:55    control  heart      1\n",
       "4      906207  2017-01-10 17:55:40    control  heart      0\n",
       "...       ...                  ...        ...    ...    ...\n",
       "2393   829862   2017-01-20 7:22:43  treatment   star      0\n",
       "2394   700306  2017-01-23 15:52:38  treatment   star      1\n",
       "2395   803106  2017-01-11 11:07:57  treatment   star      0\n",
       "2396   755046  2017-01-14 15:33:20  treatment   star      1\n",
       "2397   760681  2017-01-14 17:18:51  treatment   star      0\n",
       "\n",
       "[2398 rows x 5 columns]"
      ]
     },
     "execution_count": 45,
     "metadata": {},
     "output_type": "execute_result"
    }
   ],
   "source": [
    "# Create one table called ab_test that has both the cleaned control and treatment data\n",
    "ab_test = pd.concat([control_sample, treatment_sample], axis=0)\n",
    "ab_test.reset_index(drop=True, inplace=True)\n",
    "\n",
    "ab_test\n"
   ]
  },
  {
   "cell_type": "code",
   "execution_count": 46,
   "id": "conservative-occasions",
   "metadata": {},
   "outputs": [
    {
     "data": {
      "text/plain": [
       "treatment    1199\n",
       "control      1199\n",
       "Name: group, dtype: int64"
      ]
     },
     "execution_count": 46,
     "metadata": {},
     "output_type": "execute_result"
    }
   ],
   "source": [
    "# Count the test groups to make sure that they're balanced \n",
    "ab_test[\"group\"].value_counts() # it is balanced 1199, 1199\n"
   ]
  },
  {
   "cell_type": "markdown",
   "id": "metric-skill",
   "metadata": {},
   "source": [
    "### Analysis Visualization"
   ]
  },
  {
   "cell_type": "code",
   "execution_count": 47,
   "id": "satisfied-victoria",
   "metadata": {},
   "outputs": [
    {
     "data": {
      "text/html": [
       "<style  type=\"text/css\" >\n",
       "</style><table id=\"T_8dabb_\" ><thead>    <tr>        <th class=\"blank level0\" ></th>        <th class=\"col_heading level0 col0\" >conversion_rate</th>        <th class=\"col_heading level0 col1\" >std_deviation</th>        <th class=\"col_heading level0 col2\" >std_error</th>    </tr>    <tr>        <th class=\"index_name level0\" >group</th>        <th class=\"blank\" ></th>        <th class=\"blank\" ></th>        <th class=\"blank\" ></th>    </tr></thead><tbody>\n",
       "                <tr>\n",
       "                        <th id=\"T_8dabb_level0_row0\" class=\"row_heading level0 row0\" >control</th>\n",
       "                        <td id=\"T_8dabb_row0_col0\" class=\"data row0 col0\" >0.115</td>\n",
       "                        <td id=\"T_8dabb_row0_col1\" class=\"data row0 col1\" >0.319</td>\n",
       "                        <td id=\"T_8dabb_row0_col2\" class=\"data row0 col2\" >0.009</td>\n",
       "            </tr>\n",
       "            <tr>\n",
       "                        <th id=\"T_8dabb_level0_row1\" class=\"row_heading level0 row1\" >treatment</th>\n",
       "                        <td id=\"T_8dabb_row1_col0\" class=\"data row1 col0\" >0.116</td>\n",
       "                        <td id=\"T_8dabb_row1_col1\" class=\"data row1 col1\" >0.320</td>\n",
       "                        <td id=\"T_8dabb_row1_col2\" class=\"data row1 col2\" >0.009</td>\n",
       "            </tr>\n",
       "    </tbody></table>"
      ],
      "text/plain": [
       "<pandas.io.formats.style.Styler at 0x7fc1bed91eb0>"
      ]
     },
     "execution_count": 47,
     "metadata": {},
     "output_type": "execute_result"
    }
   ],
   "source": [
    "# Find the like rate by group\n",
    "conversion_rates = ab_test.groupby(\"group\")[\"liked\"]\n",
    "\n",
    "# Find the Std. deviation of the proportion\n",
    "std_p = lambda x: np.std(x)\n",
    "# Find the Std. error of the proportion (std / sqrt(n))\n",
    "se_p = lambda x: stats.sem(x)\n",
    "\n",
    "# Calculate the final like rate\n",
    "conversion_rates = conversion_rates.agg([np.mean, std_p, se_p])\n",
    "conversion_rates.columns = [\"conversion_rate\", \"std_deviation\", \"std_error\"]\n",
    "\n",
    "conversion_rates.style.format ('{:.3f}')"
   ]
  },
  {
   "cell_type": "code",
   "execution_count": 51,
   "id": "reflected-ecology",
   "metadata": {},
   "outputs": [
    {
     "data": {
      "text/plain": [
       "Text(0, 0.5, 'Converted (Proportion)')"
      ]
     },
     "execution_count": 51,
     "metadata": {},
     "output_type": "execute_result"
    },
    {
     "data": {
      "image/png": "[encoded data removed]",
      "text/plain": [
       "<Figure size 576x432 with 1 Axes>"
      ]
     },
     "metadata": {
      "needs_background": "light"
     },
     "output_type": "display_data"
    }
   ],
   "source": [
    "# Plot the like rate by group on a bar plot\n",
    "plt.figure(figsize= (8,6))\n",
    "\n",
    "sns.barplot(x=ab_test[\"group\"], y=ab_test[\"liked\"], ci=False)\n",
    "plt.ylim(0, 0.13)\n",
    "plt.title(\"conversion rate by group\", pad = 20)\n",
    "plt. xlabel(\"Group\", labelpad=15)\n",
    "plt.ylabel(\"Converted (Proportion)\", labelpad=15)"
   ]
  },
  {
   "cell_type": "markdown",
   "id": "adolescent-footage",
   "metadata": {},
   "source": [
    "### Testing for Stat Sig"
   ]
  },
  {
   "cell_type": "code",
   "execution_count": 52,
   "id": "precious-chicken",
   "metadata": {},
   "outputs": [
    {
     "name": "stdout",
     "output_type": "stream",
     "text": [
      "1199\n",
      "1199\n",
      "[138, 139]\n",
      "[1199, 1199]\n"
     ]
    }
   ],
   "source": [
    "from statsmodels.stats.proportion import proportions_ztest, proportion_confint\n",
    "\n",
    "# Get the like count for both control and treatment groups\n",
    "control_results = ab_test[ab_test[\"group\"]== \"control\"] [\"liked\"]\n",
    "treatment_results = ab_test[ab_test[\"group\"] == \"treatment\"] [\"liked\"]\n",
    "\n",
    "# Get the number of samples in both groups\n",
    "n_con = control_results.count()\n",
    "n_treat = treatment_results.count()\n",
    "\n",
    "# Sum up the number of successes (likes) in both groups\n",
    "successes = [control_results.sum(), treatment_results.sum()]\n",
    "nobs = [n_con, n_treat]\n",
    "\n",
    "print(n_con)\n",
    "print(n_treat)\n",
    "print(successes)\n",
    "print(nobs)\n"
   ]
  },
  {
   "cell_type": "code",
   "execution_count": 53,
   "id": "lesbian-emperor",
   "metadata": {},
   "outputs": [],
   "source": [
    "# Find the z statistic and p value for proportions based on normal ztest\n",
    "z_stat, pval = proportions_ztest(successes, nobs=nobs)\n",
    "\n",
    "\n",
    "# Find the confidence intervals for each test group\n",
    "(lower_con, lower_treat), (upper_con, upper_treat) = proportion_confint(successes, nobs=nobs, alpha = 0.05)\n"
   ]
  },
  {
   "cell_type": "code",
   "execution_count": 54,
   "id": "filled-quality",
   "metadata": {
    "scrolled": true
   },
   "outputs": [
    {
     "name": "stdout",
     "output_type": "stream",
     "text": [
      "z_statistics: -0.06\n",
      "p-value: 0.949060\n",
      "ci 95% for control group:[0.097, 0.133]\n",
      "ci 95% for treatment group: [ 0.098,  0.134051]\n"
     ]
    }
   ],
   "source": [
    "# print z statistic\n",
    "print(f\"z_statistics: {z_stat:.2f}\")\n",
    "\n",
    "# print p-value\n",
    "print(f\"p-value: {pval:3f}\")\n",
    "\n",
    "# print ci 95% for control group\n",
    "print(f\"ci 95% for control group:[{lower_con:.3f}, {upper_con:.3f}]\")\n",
    "\n",
    "# print ci 95% for treatment group\n",
    "print(f\"ci 95% for treatment group: [{lower_treat: .3f}, {upper_treat: 3f}]\")"
   ]
  },
  {
   "cell_type": "code",
   "execution_count": 56,
   "id": "7819b67f",
   "metadata": {},
   "outputs": [
    {
     "data": {
      "text/html": [
       "<style  type=\"text/css\" >\n",
       "</style><table id=\"T_bb88c_\" ><thead>    <tr>        <th class=\"blank level0\" ></th>        <th class=\"col_heading level0 col0\" >conversion_rate</th>        <th class=\"col_heading level0 col1\" >std_deviation</th>        <th class=\"col_heading level0 col2\" >std_error</th>    </tr>    <tr>        <th class=\"index_name level0\" >group</th>        <th class=\"blank\" ></th>        <th class=\"blank\" ></th>        <th class=\"blank\" ></th>    </tr></thead><tbody>\n",
       "                <tr>\n",
       "                        <th id=\"T_bb88c_level0_row0\" class=\"row_heading level0 row0\" >control</th>\n",
       "                        <td id=\"T_bb88c_row0_col0\" class=\"data row0 col0\" >0.115</td>\n",
       "                        <td id=\"T_bb88c_row0_col1\" class=\"data row0 col1\" >0.319</td>\n",
       "                        <td id=\"T_bb88c_row0_col2\" class=\"data row0 col2\" >0.009</td>\n",
       "            </tr>\n",
       "            <tr>\n",
       "                        <th id=\"T_bb88c_level0_row1\" class=\"row_heading level0 row1\" >treatment</th>\n",
       "                        <td id=\"T_bb88c_row1_col0\" class=\"data row1 col0\" >0.116</td>\n",
       "                        <td id=\"T_bb88c_row1_col1\" class=\"data row1 col1\" >0.320</td>\n",
       "                        <td id=\"T_bb88c_row1_col2\" class=\"data row1 col2\" >0.009</td>\n",
       "            </tr>\n",
       "    </tbody></table>"
      ],
      "text/plain": [
       "<pandas.io.formats.style.Styler at 0x7fc1bfb9c2b0>"
      ]
     },
     "execution_count": 56,
     "metadata": {},
     "output_type": "execute_result"
    }
   ],
   "source": [
    "conversion_rates.style.format(\"{:.3f}\")"
   ]
  },
  {
   "cell_type": "markdown",
   "id": "closing-technique",
   "metadata": {},
   "source": [
    "### Were the results signficant? "
   ]
  },
  {
   "cell_type": "code",
   "execution_count": 57,
   "id": "respected-uganda",
   "metadata": {},
   "outputs": [
    {
     "name": "stdout",
     "output_type": "stream",
     "text": [
      "the change is not significant\n"
     ]
    }
   ],
   "source": [
    "print (\"the change is not significant\")"
   ]
  },
  {
   "cell_type": "markdown",
   "id": "connected-tiffany",
   "metadata": {},
   "source": [
    "### What would you advise the engineering team to do moving forward?"
   ]
  },
  {
   "cell_type": "code",
   "execution_count": 58,
   "id": "polar-power",
   "metadata": {},
   "outputs": [
    {
     "name": "stdout",
     "output_type": "stream",
     "text": [
      "I would advise that the engineering team to keep the heart\n"
     ]
    }
   ],
   "source": [
    "print(\"I would advise that the engineering team to keep the heart\")"
   ]
  },
  {
   "cell_type": "code",
   "execution_count": null,
   "id": "4a86137c",
   "metadata": {},
   "outputs": [],
   "source": []
  }
 ],
 "metadata": {
  "kernelspec": {
   "display_name": "Python 3",
   "language": "python",
   "name": "python3"
  },
  "language_info": {
   "codemirror_mode": {
    "name": "ipython",
    "version": 3
   },
   "file_extension": ".py",
   "mimetype": "text/x-python",
   "name": "python",
   "nbconvert_exporter": "python",
   "pygments_lexer": "ipython3",
   "version": "3.8.8"
  }
 },
 "nbformat": 4,
 "nbformat_minor": 5
}
